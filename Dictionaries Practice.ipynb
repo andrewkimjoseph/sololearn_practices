{
 "cells": [
  {
   "cell_type": "code",
   "execution_count": 40,
   "id": "39cdd8eb",
   "metadata": {},
   "outputs": [],
   "source": [
    "dct =  {'Ashley': 20, 'Andrew': 24, 'Lilia': 21}"
   ]
  },
  {
   "cell_type": "code",
   "execution_count": 42,
   "id": "a217280a",
   "metadata": {},
   "outputs": [
    {
     "data": {
      "text/plain": [
       "24"
      ]
     },
     "execution_count": 42,
     "metadata": {},
     "output_type": "execute_result"
    }
   ],
   "source": [
    "dct['Andrew']"
   ]
  },
  {
   "cell_type": "code",
   "execution_count": 16,
   "id": "c8053e6b",
   "metadata": {},
   "outputs": [
    {
     "name": "stdout",
     "output_type": "stream",
     "text": [
      "Enter Your Name: Tania\n"
     ]
    }
   ],
   "source": [
    "name = input('Enter Your Name: ')"
   ]
  },
  {
   "cell_type": "code",
   "execution_count": null,
   "id": "bd2ebcf0",
   "metadata": {},
   "outputs": [],
   "source": []
  },
  {
   "cell_type": "code",
   "execution_count": 17,
   "id": "0ecbed5c",
   "metadata": {},
   "outputs": [
    {
     "name": "stdout",
     "output_type": "stream",
     "text": [
      "Enter Your Age: 21\n"
     ]
    }
   ],
   "source": [
    "age = int(input('Enter Your Age: '))"
   ]
  },
  {
   "cell_type": "code",
   "execution_count": null,
   "id": "58c4ecba",
   "metadata": {},
   "outputs": [],
   "source": []
  },
  {
   "cell_type": "code",
   "execution_count": 18,
   "id": "0697b361",
   "metadata": {},
   "outputs": [],
   "source": [
    "new_person = (name, age)\n",
    "\n",
    "name, age = new_person"
   ]
  },
  {
   "cell_type": "code",
   "execution_count": null,
   "id": "4af8cf65",
   "metadata": {},
   "outputs": [],
   "source": []
  },
  {
   "cell_type": "code",
   "execution_count": null,
   "id": "6978961b",
   "metadata": {},
   "outputs": [],
   "source": []
  },
  {
   "cell_type": "code",
   "execution_count": 37,
   "id": "4dfc165a",
   "metadata": {},
   "outputs": [],
   "source": [
    "def add_to_dict():\n",
    "    \n",
    "    dct = {}\n",
    "    \n",
    "    add = True\n",
    "    \n",
    "    while add:\n",
    "        \n",
    "        name = input('Enter Your Name: ')\n",
    "        \n",
    "        age = int(input('Enter Your Age: '))\n",
    "        \n",
    "        dct[name] = age\n",
    "        \n",
    "        prompt = input(\"Do You Wish to Add Another Person, Y or N?\")\n",
    "        \n",
    "        if prompt == 'Y':\n",
    "            \n",
    "            add = True\n",
    "        \n",
    "        elif prompt == 'N':\n",
    "            \n",
    "            add = False\n",
    "        \n",
    "    return dct\n",
    "        "
   ]
  },
  {
   "cell_type": "code",
   "execution_count": 39,
   "id": "3e897d01",
   "metadata": {},
   "outputs": [
    {
     "name": "stdout",
     "output_type": "stream",
     "text": [
      "Enter Your Name: Ashley\n",
      "Enter Your Age: 20\n",
      "Do You Wish to Add Another Person, Y or N?Y\n",
      "Enter Your Name: Andrew\n",
      "Enter Your Age: 24\n",
      "Do You Wish to Add Another Person, Y or N?Y\n",
      "Enter Your Name: Lilia\n",
      "Enter Your Age: 21\n",
      "Do You Wish to Add Another Person, Y or N?N\n"
     ]
    },
    {
     "data": {
      "text/plain": [
       "{'Ashley': 20, 'Andrew': 24, 'Lilia': 21}"
      ]
     },
     "execution_count": 39,
     "metadata": {},
     "output_type": "execute_result"
    }
   ],
   "source": [
    "add_to_dict()"
   ]
  },
  {
   "cell_type": "code",
   "execution_count": null,
   "id": "52cbe935",
   "metadata": {},
   "outputs": [],
   "source": []
  },
  {
   "cell_type": "code",
   "execution_count": 28,
   "id": "6b61db4b",
   "metadata": {},
   "outputs": [
    {
     "data": {
      "text/plain": [
       "{'Andrew': 24, 'Luka': 17, 'Joseph': 51, 'Jane': 47, 'Tania': 21}"
      ]
     },
     "execution_count": 28,
     "metadata": {},
     "output_type": "execute_result"
    }
   ],
   "source": [
    "dct"
   ]
  },
  {
   "cell_type": "code",
   "execution_count": 36,
   "id": "b0aa519d",
   "metadata": {},
   "outputs": [
    {
     "name": "stdout",
     "output_type": "stream",
     "text": [
      "Enter Your Name: Andrew\n",
      "Enter Your Age: 43\n",
      "Do You Wish to Add Another Person, Y or N?Y\n",
      "Enter Your Name: Luka\n",
      "Enter Your Age: 21\n",
      "Do You Wish to Add Another Person, Y or N?Joseph\n",
      "Enter Your Name: Joseph\n",
      "Enter Your Age: 43\n",
      "Do You Wish to Add Another Person, Y or N?N\n",
      "Enter the NameJose\n",
      "Enter the NameKim\n",
      "Name Not Found\n",
      "Enter the NameLuka\n",
      "21\n"
     ]
    }
   ],
   "source": [
    "the_dict = add_to_dict()\n",
    "\n",
    "def search_age():\n",
    "    \n",
    "    name = input(\"Enter the Name\")\n",
    "    \n",
    "    search = True\n",
    "    \n",
    "    while search:\n",
    "        \n",
    "        name = input(\"Enter the Name\")\n",
    "        \n",
    "        if name not in the_dict:\n",
    "            print(\"Name Not Found\")\n",
    "            search = True\n",
    "        elif name in the_dict:\n",
    "            print(the_dict[name])\n",
    "            search = False\n",
    "\n",
    "search_age()"
   ]
  },
  {
   "cell_type": "code",
   "execution_count": null,
   "id": "ef0ba2be",
   "metadata": {},
   "outputs": [],
   "source": []
  },
  {
   "cell_type": "code",
   "execution_count": null,
   "id": "c9634645",
   "metadata": {},
   "outputs": [],
   "source": []
  },
  {
   "cell_type": "code",
   "execution_count": null,
   "id": "766a4ef3",
   "metadata": {},
   "outputs": [],
   "source": []
  }
 ],
 "metadata": {
  "kernelspec": {
   "display_name": "Python 3 (ipykernel)",
   "language": "python",
   "name": "python3"
  },
  "language_info": {
   "codemirror_mode": {
    "name": "ipython",
    "version": 3
   },
   "file_extension": ".py",
   "mimetype": "text/x-python",
   "name": "python",
   "nbconvert_exporter": "python",
   "pygments_lexer": "ipython3",
   "version": "3.9.7"
  }
 },
 "nbformat": 4,
 "nbformat_minor": 5
}
