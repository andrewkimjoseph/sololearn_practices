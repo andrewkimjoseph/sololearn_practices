{
 "cells": [
  {
   "cell_type": "code",
   "execution_count": 1,
   "id": "2e181ca4",
   "metadata": {},
   "outputs": [],
   "source": [
    "import random\n",
    "import string\n",
    "\n",
    "class BankAccount():\n",
    "\n",
    "    def __init__ (self, name = 'username', balance = 0, number = '-'):\n",
    "\n",
    "        self.name = name\n",
    "        self.balance = balance\n",
    "        \n",
    "        def rand_str(chars = string.ascii_uppercase + string.digits, n=8):\n",
    "\n",
    "            num = ''\n",
    "            num = num.join(random.choice(chars) for _ in range(n))\n",
    "            return num\n",
    "        \n",
    "        self.number = rand_str()\n",
    "    \n",
    "    \n",
    "    def deposit (self, amount):\n",
    "        \n",
    "        self.balance += amount\n",
    "        return f'Hey {self.name}, you have deposited KES. {self.balance:,} and your account now has KES. {self.balance}'\n",
    "    \n",
    "    \n",
    "    def withdraw (self, amount):\n",
    "        \n",
    "        self.balance -= amount\n",
    "        return f'Hey {self.name}, you have withdrawn KES. {amount:,} and your account now has KES. {self.balance:,}'\n",
    "\n",
    "        \n",
    "    def __str__(self):\n",
    "        \n",
    "        return f'Account Number: {self.number}\\nAccount Holder: {self.name}\\nAccount Balance: {self.balance:,}'"
   ]
  },
  {
   "cell_type": "code",
   "execution_count": null,
   "id": "54baf9ae",
   "metadata": {},
   "outputs": [],
   "source": []
  },
  {
   "cell_type": "code",
   "execution_count": 2,
   "id": "8b651f0f",
   "metadata": {},
   "outputs": [],
   "source": [
    "person_one = BankAccount(\"Andrew Kim\", 10000)"
   ]
  },
  {
   "cell_type": "code",
   "execution_count": 11,
   "id": "cdd1ffd4",
   "metadata": {},
   "outputs": [
    {
     "name": "stdout",
     "output_type": "stream",
     "text": [
      "Account Number: FZ7DHG0L\n",
      "Account Holder: Andrew Kim\n",
      "Account Balance: 8,000\n"
     ]
    }
   ],
   "source": [
    "print(person_one)"
   ]
  },
  {
   "cell_type": "code",
   "execution_count": null,
   "id": "17f70153",
   "metadata": {},
   "outputs": [],
   "source": []
  },
  {
   "cell_type": "code",
   "execution_count": 4,
   "id": "f3147ea1",
   "metadata": {},
   "outputs": [],
   "source": [
    "person_two = BankAccount(\"Luka Joseph\", 15000)"
   ]
  },
  {
   "cell_type": "code",
   "execution_count": 12,
   "id": "1809f8bf",
   "metadata": {},
   "outputs": [
    {
     "name": "stdout",
     "output_type": "stream",
     "text": [
      "Account Number: TWUIDS4O\n",
      "Account Holder: Luka Joseph\n",
      "Account Balance: 15,000\n"
     ]
    }
   ],
   "source": [
    "print(person_two)"
   ]
  },
  {
   "cell_type": "code",
   "execution_count": null,
   "id": "a22564f9",
   "metadata": {},
   "outputs": [],
   "source": []
  },
  {
   "cell_type": "code",
   "execution_count": 9,
   "id": "925e27fc",
   "metadata": {},
   "outputs": [
    {
     "data": {
      "text/plain": [
       "'Hey Andrew Kim, you have withdrawn KES. 2,000 and your account now has KES. 8,000'"
      ]
     },
     "execution_count": 9,
     "metadata": {},
     "output_type": "execute_result"
    }
   ],
   "source": [
    "person_one.withdraw(2000)"
   ]
  },
  {
   "cell_type": "code",
   "execution_count": 10,
   "id": "9ad8e95e",
   "metadata": {},
   "outputs": [
    {
     "name": "stdout",
     "output_type": "stream",
     "text": [
      "Account Number: FZ7DHG0L\n",
      "Account Holder: Andrew Kim\n",
      "Account Balance: 8,000\n"
     ]
    }
   ],
   "source": [
    "print(person_one)"
   ]
  },
  {
   "cell_type": "code",
   "execution_count": null,
   "id": "5508bdc3",
   "metadata": {},
   "outputs": [],
   "source": []
  },
  {
   "cell_type": "code",
   "execution_count": 13,
   "id": "03cf448e",
   "metadata": {},
   "outputs": [
    {
     "data": {
      "text/plain": [
       "'Hey Luka Joseph, you have deposited KES. 25,000 and your account now has KES. 25000'"
      ]
     },
     "execution_count": 13,
     "metadata": {},
     "output_type": "execute_result"
    }
   ],
   "source": [
    "person_two.deposit(10000)"
   ]
  },
  {
   "cell_type": "code",
   "execution_count": null,
   "id": "64e6fba8",
   "metadata": {},
   "outputs": [],
   "source": []
  }
 ],
 "metadata": {
  "kernelspec": {
   "display_name": "Python 3 (ipykernel)",
   "language": "python",
   "name": "python3"
  },
  "language_info": {
   "codemirror_mode": {
    "name": "ipython",
    "version": 3
   },
   "file_extension": ".py",
   "mimetype": "text/x-python",
   "name": "python",
   "nbconvert_exporter": "python",
   "pygments_lexer": "ipython3",
   "version": "3.9.7"
  }
 },
 "nbformat": 4,
 "nbformat_minor": 5
}
